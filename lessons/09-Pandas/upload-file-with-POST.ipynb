{
 "cells": [
  {
   "cell_type": "code",
   "execution_count": 2,
   "metadata": {},
   "outputs": [
    {
     "name": "stdout",
     "output_type": "stream",
     "text": [
      "/home/hobs/Pictures/bear/barlow-rd-2014-a-095_30343888245_o.jpg\n",
      "<Response [201]>\n"
     ]
    }
   ],
   "source": [
    "import requests\n",
    "import os\n",
    "\n",
    "base_dir = os.path.join(os.getenv('HOME'), 'Pictures')\n",
    "url = 'http://localhost:8000/api/'\n",
    "filename = 'barlow-rd-2014-a-095_30343888245_o.jpg'\n",
    "with open(os.path.join(base_dir, 'bear', filename), 'rb') as fin:\n",
    "    print(fin.name)\n",
    "    POST_data = {'caption': 'posted bear'}\n",
    "    files = {'file': (filename, fin),\n",
    "             'file_name': filename}\n",
    "    resp = requests.post(url, data=POST_data, files=files)\n",
    "    print(resp)"
   ]
  }
 ],
 "metadata": {
  "kernelspec": {
   "display_name": "Python 3",
   "language": "python",
   "name": "python3"
  },
  "language_info": {
   "codemirror_mode": {
    "name": "ipython",
    "version": 3
   },
   "file_extension": ".py",
   "mimetype": "text/x-python",
   "name": "python",
   "nbconvert_exporter": "python",
   "pygments_lexer": "ipython3",
   "version": "3.5.3"
  }
 },
 "nbformat": 4,
 "nbformat_minor": 2
}
