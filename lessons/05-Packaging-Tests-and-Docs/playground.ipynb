{
 "cells": [
  {
   "cell_type": "code",
   "execution_count": 3,
   "metadata": {},
   "outputs": [
    {
     "name": "stdout",
     "output_type": "stream",
     "text": [
      "Already using interpreter /home/hobs/.virtualenvs/civicu/bin/python3\n",
      "Using real prefix '/usr'\n",
      "Path not in prefix '/home/hobs/.virtualenvs/civicu/include/python3.5m' '/usr'\n",
      "New python executable in /home/hobs/src/civicu_app/civicu_appname/bin/python3\n",
      "Not overwriting existing python script /home/hobs/src/civicu_app/civicu_appname/bin/python (you must use /home/hobs/src/civicu_app/civicu_appname/bin/python3)\n",
      "Installing setuptools, pip, wheel...done.\n"
     ]
    }
   ],
   "source": [
    "mkdir ~/.virtualenvs\n",
    "cd ~/.virtualenvs/\n",
    "!virtualenv -p python3 civicu_bot\n"
   ]
  },
  {
   "cell_type": "code",
   "execution_count": null,
   "metadata": {
    "collapsed": true
   },
   "outputs": [],
   "source": []
  }
 ],
 "metadata": {
  "kernelspec": {
   "display_name": "Python 3",
   "language": "python",
   "name": "python3"
  },
  "language_info": {
   "codemirror_mode": {
    "name": "ipython",
    "version": 3
   },
   "file_extension": ".py",
   "mimetype": "text/x-python",
   "name": "python",
   "nbconvert_exporter": "python",
   "pygments_lexer": "ipython3",
   "version": "3.5.3"
  }
 },
 "nbformat": 4,
 "nbformat_minor": 2
}
