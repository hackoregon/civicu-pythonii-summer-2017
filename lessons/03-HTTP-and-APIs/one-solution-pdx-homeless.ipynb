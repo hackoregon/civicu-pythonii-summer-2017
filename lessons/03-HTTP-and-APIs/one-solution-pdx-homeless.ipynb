{
 "cells": [
  {
   "cell_type": "code",
   "execution_count": 16,
   "metadata": {
    "scrolled": false
   },
   "outputs": [
    {
     "name": "stdout",
     "output_type": "stream",
     "text": [
      "2009 2265\n",
      "2011 7273\n",
      "2013 7107\n",
      "2015 1565\n",
      "18210\n"
     ]
    }
   ],
   "source": [
    "import requests\n",
    "import json\n",
    "import csv\n",
    "\n",
    "with open('homeless.csv', 'w') as fout:\n",
    "    writer = csv.writer(fout)\n",
    "    total = 0\n",
    "    for i in range(2000, 2016):\n",
    "        resp = requests.get('http://service.civicpdx.org/homeless/ethnicity/?page=1&year={i}'.format(i=i))\n",
    "        ans = resp.json()\n",
    "        # print(json.dumps(ans, indent=2))\n",
    "        if ans:\n",
    "            # BONUS: FIXME: look closely at the dictionaries to make sure we aren't double-counting!\n",
    "            year_total = sum([d.get('count', 0) for d in ans])\n",
    "            total += year_total\n",
    "            print(i, year_total)\n",
    "            writer.writerow([i, year_total])\n",
    "    print(total)"
   ]
  },
  {
   "cell_type": "code",
   "execution_count": null,
   "metadata": {
    "collapsed": true
   },
   "outputs": [],
   "source": []
  }
 ],
 "metadata": {
  "kernelspec": {
   "display_name": "Python 3",
   "language": "python",
   "name": "python3"
  },
  "language_info": {
   "codemirror_mode": {
    "name": "ipython",
    "version": 3
   },
   "file_extension": ".py",
   "mimetype": "text/x-python",
   "name": "python",
   "nbconvert_exporter": "python",
   "pygments_lexer": "ipython3",
   "version": "3.5.3"
  }
 },
 "nbformat": 4,
 "nbformat_minor": 2
}
